{
 "cells": [
  {
   "cell_type": "code",
   "execution_count": 25,
   "metadata": {},
   "outputs": [],
   "source": [
    "import numpy as np\n",
    "import matplotlib.pyplot as plt\n",
    "x = np.linspace(-10,10,5000)\n",
    "deltax = x[1]-x[0]"
   ]
  },
  {
   "cell_type": "code",
   "execution_count": 26,
   "metadata": {},
   "outputs": [],
   "source": [
    "def norm(phi):\n",
    "    norm = np.sum(np.square(np.abs(phi)))*deltax\n",
    "    return phi/np.sqrt(norm)\n",
    "\n",
    "def complex_plot(x,y,prob=True,**kwargs):\n",
    "    real = np.real(y)\n",
    "    imag = np.imag(y)\n",
    "    a,*_ = plt.plot(x,real,label='Re',**kwargs)\n",
    "    b,*_ = plt.plot(x,imag,label='Im',**kwargs)\n",
    "    plt.xlim(-2,2)\n",
    "    if prob:\n",
    "        p,*_ = plt.plot(x,np.abs(y),label='$\\sqrt{P}$')\n",
    "        return a,b,p\n",
    "    else:\n",
    "        return a,b\n",
    "    \n",
    "def wave_packet(pos=0,mom=0,sigma=0.2):\n",
    "    return norm(np.exp(-1j*mom*x)*np.exp(-np.square(x-pos)/sigma/sigma,dtype=complex))"
   ]
  },
  {
   "cell_type": "code",
   "execution_count": 27,
   "metadata": {},
   "outputs": [],
   "source": [
    "def d_dxdx(phi,x=x):\n",
    "    dphi_dxdx = -2*phi\n",
    "    dphi_dxdx[:-1] += phi[1:]\n",
    "    dphi_dxdx[1:] += phi[:-1]\n",
    "    return dphi_dxdx/deltax\n",
    "\n",
    "def d_dt(phi,h=1,m=100,V=0):\n",
    "    return 1j*h/2/m * d_dxdx(phi) - 1j*V*phi/h\n",
    "\n",
    "def euler(phi, dt, **kwargs):\n",
    "    return phi + dt * d_dt(phi, **kwargs)\n",
    "\n",
    "def rk4(phi, dt, **kwargs):\n",
    "    k1 = d_dt(phi, **kwargs)\n",
    "    k2 = d_dt(phi+dt/2*k1, **kwargs)\n",
    "    k3 = d_dt(phi+dt/2*k2, **kwargs)\n",
    "    k4 = d_dt(phi+dt*k3, **kwargs)\n",
    "    return phi + dt/6*(k1+2*k2+2*k3+k4)"
   ]
  },
  {
   "cell_type": "code",
   "execution_count": 28,
   "metadata": {},
   "outputs": [],
   "source": [
    "def simulate(phi_sim, \n",
    "             method='rk4', \n",
    "             V=0, \n",
    "             steps=100000, \n",
    "             dt=1e-1, \n",
    "             condition=None, \n",
    "             normalize=True,\n",
    "             save_every=100):\n",
    "    simulation_steps = [np.copy(phi_sim)]\n",
    "    for i in range(steps):\n",
    "        if method == 'euler':\n",
    "            phi_sim = euler(phi_sim,dt,V=V)\n",
    "        elif method == 'rk4':\n",
    "            phi_sim = rk4(phi_sim,dt,V=V)\n",
    "        else:\n",
    "            raise Exception(f'Unknown method {method}')\n",
    "        if condition:\n",
    "            phi_sim = condition(phi_sim)\n",
    "        if normalize:\n",
    "            phi_sim = norm(phi_sim)\n",
    "        if save_every is not None and (i+1) % save_every == 0:\n",
    "            simulation_steps.append(np.copy(phi_sim))\n",
    "    return simulation_steps"
   ]
  },
  {
   "cell_type": "code",
   "execution_count": 29,
   "metadata": {},
   "outputs": [],
   "source": [
    "from matplotlib.animation import FuncAnimation\n",
    "\n",
    "def animate(simulation_steps,init_func=None):\n",
    "    fig = plt.figure()\n",
    "    re,im,prob = complex_plot(x,simulation_steps[0])\n",
    "    plt.xlim(-2,2)\n",
    "    plt.ylim(-2,2)\n",
    "    if init_func:\n",
    "        init_func()\n",
    "    plt.legend()\n",
    "\n",
    "    def animate(frame):\n",
    "        prob.set_data((x, np.abs(simulation_steps[frame])))\n",
    "        re.set_data((x, np.real(simulation_steps[frame])))\n",
    "        im.set_data((x, np.imag(simulation_steps[frame])))\n",
    "        return prob,re,im\n",
    "\n",
    "    anim = FuncAnimation(fig, animate, frames=int(len(simulation_steps)), interval=50)\n",
    "    plt.close()\n",
    "\n",
    "    return anim"
   ]
  },
  {
   "cell_type": "code",
   "execution_count": 30,
   "metadata": {},
   "outputs": [],
   "source": [
    "sim_free = simulate(wave_packet(),steps=200000,save_every=1000)"
   ]
  },
  {
   "cell_type": "code",
   "execution_count": 38,
   "metadata": {},
   "outputs": [
    {
     "ename": "RuntimeError",
     "evalue": "Requested MovieWriter (ffmpeg) not available",
     "output_type": "error",
     "traceback": [
      "\u001b[0;31m---------------------------------------------------------------------------\u001b[0m",
      "\u001b[0;31mRuntimeError\u001b[0m                              Traceback (most recent call last)",
      "\u001b[0;32m/var/folders/x1/04l80ddx15qgdp1hzqzwcb300000gn/T/ipykernel_74310/765856400.py\u001b[0m in \u001b[0;36m<module>\u001b[0;34m\u001b[0m\n\u001b[1;32m      1\u001b[0m \u001b[0;32mfrom\u001b[0m \u001b[0mIPython\u001b[0m\u001b[0;34m.\u001b[0m\u001b[0mdisplay\u001b[0m \u001b[0;32mimport\u001b[0m \u001b[0mHTML\u001b[0m\u001b[0;34m\u001b[0m\u001b[0;34m\u001b[0m\u001b[0m\n\u001b[1;32m      2\u001b[0m \u001b[0manim\u001b[0m \u001b[0;34m=\u001b[0m \u001b[0manimate\u001b[0m\u001b[0;34m(\u001b[0m\u001b[0msim_free\u001b[0m\u001b[0;34m)\u001b[0m\u001b[0;34m\u001b[0m\u001b[0;34m\u001b[0m\u001b[0m\n\u001b[0;32m----> 3\u001b[0;31m \u001b[0mHTML\u001b[0m\u001b[0;34m(\u001b[0m\u001b[0manim\u001b[0m\u001b[0;34m.\u001b[0m\u001b[0mto_html5_video\u001b[0m\u001b[0;34m(\u001b[0m\u001b[0;34m)\u001b[0m\u001b[0;34m)\u001b[0m\u001b[0;34m\u001b[0m\u001b[0;34m\u001b[0m\u001b[0m\n\u001b[0m",
      "\u001b[0;32m~/opt/anaconda3/envs/Python_3_10_DataScience/lib/python3.10/site-packages/matplotlib/animation.py\u001b[0m in \u001b[0;36mto_html5_video\u001b[0;34m(self, embed_limit)\u001b[0m\n\u001b[1;32m   1260\u001b[0m                 \u001b[0;31m# We create a writer manually so that we can get the\u001b[0m\u001b[0;34m\u001b[0m\u001b[0;34m\u001b[0m\u001b[0m\n\u001b[1;32m   1261\u001b[0m                 \u001b[0;31m# appropriate size for the tag\u001b[0m\u001b[0;34m\u001b[0m\u001b[0;34m\u001b[0m\u001b[0m\n\u001b[0;32m-> 1262\u001b[0;31m                 \u001b[0mWriter\u001b[0m \u001b[0;34m=\u001b[0m \u001b[0mwriters\u001b[0m\u001b[0;34m[\u001b[0m\u001b[0mmpl\u001b[0m\u001b[0;34m.\u001b[0m\u001b[0mrcParams\u001b[0m\u001b[0;34m[\u001b[0m\u001b[0;34m'animation.writer'\u001b[0m\u001b[0;34m]\u001b[0m\u001b[0;34m]\u001b[0m\u001b[0;34m\u001b[0m\u001b[0;34m\u001b[0m\u001b[0m\n\u001b[0m\u001b[1;32m   1263\u001b[0m                 writer = Writer(codec='h264',\n\u001b[1;32m   1264\u001b[0m                                 \u001b[0mbitrate\u001b[0m\u001b[0;34m=\u001b[0m\u001b[0mmpl\u001b[0m\u001b[0;34m.\u001b[0m\u001b[0mrcParams\u001b[0m\u001b[0;34m[\u001b[0m\u001b[0;34m'animation.bitrate'\u001b[0m\u001b[0;34m]\u001b[0m\u001b[0;34m,\u001b[0m\u001b[0;34m\u001b[0m\u001b[0;34m\u001b[0m\u001b[0m\n",
      "\u001b[0;32m~/opt/anaconda3/envs/Python_3_10_DataScience/lib/python3.10/site-packages/matplotlib/animation.py\u001b[0m in \u001b[0;36m__getitem__\u001b[0;34m(self, name)\u001b[0m\n\u001b[1;32m    146\u001b[0m         \u001b[0;32mif\u001b[0m \u001b[0mself\u001b[0m\u001b[0;34m.\u001b[0m\u001b[0mis_available\u001b[0m\u001b[0;34m(\u001b[0m\u001b[0mname\u001b[0m\u001b[0;34m)\u001b[0m\u001b[0;34m:\u001b[0m\u001b[0;34m\u001b[0m\u001b[0;34m\u001b[0m\u001b[0m\n\u001b[1;32m    147\u001b[0m             \u001b[0;32mreturn\u001b[0m \u001b[0mself\u001b[0m\u001b[0;34m.\u001b[0m\u001b[0m_registered\u001b[0m\u001b[0;34m[\u001b[0m\u001b[0mname\u001b[0m\u001b[0;34m]\u001b[0m\u001b[0;34m\u001b[0m\u001b[0;34m\u001b[0m\u001b[0m\n\u001b[0;32m--> 148\u001b[0;31m         \u001b[0;32mraise\u001b[0m \u001b[0mRuntimeError\u001b[0m\u001b[0;34m(\u001b[0m\u001b[0;34mf\"Requested MovieWriter ({name}) not available\"\u001b[0m\u001b[0;34m)\u001b[0m\u001b[0;34m\u001b[0m\u001b[0;34m\u001b[0m\u001b[0m\n\u001b[0m\u001b[1;32m    149\u001b[0m \u001b[0;34m\u001b[0m\u001b[0m\n\u001b[1;32m    150\u001b[0m \u001b[0;34m\u001b[0m\u001b[0m\n",
      "\u001b[0;31mRuntimeError\u001b[0m: Requested MovieWriter (ffmpeg) not available"
     ]
    }
   ],
   "source": [
    "from IPython.display import HTML\n",
    "anim = animate(sim_free)\n",
    "HTML(anim.to_html5_video())\n"
   ]
  }
 ],
 "metadata": {
  "kernelspec": {
   "display_name": "Python_3_10_DataScience",
   "language": "python",
   "name": "python3"
  },
  "language_info": {
   "codemirror_mode": {
    "name": "ipython",
    "version": 3
   },
   "file_extension": ".py",
   "mimetype": "text/x-python",
   "name": "python",
   "nbconvert_exporter": "python",
   "pygments_lexer": "ipython3",
   "version": "3.10.6"
  }
 },
 "nbformat": 4,
 "nbformat_minor": 2
}
